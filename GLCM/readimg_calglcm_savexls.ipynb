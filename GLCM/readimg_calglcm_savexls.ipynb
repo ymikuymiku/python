{
 "cells": [
  {
   "cell_type": "markdown",
   "metadata": {},
   "source": [
    "##GLCM\n",
    "\n",
    "복수의 image로부터 GLCM를 이용하여 imaging feature들을 계산하고, \n",
    "결과를 엑셀파일로 저장하는 과정입니다.\n",
    "\n",
    "필요한 외부 라이브러리는 \n",
    "skiimage, numpy, pandas, xlsxwriter \n",
    "입니다.\n",
    "\n",
    "의료영상연구에서는 대개 ROI에서 GLCM을 계산합니다. \n",
    "여기서는 crop된 영상들을 입력으로 받도록 하였습니다.\n",
    "\n",
    "GLCM의 계산과 관련된 구체적인 내용은 아래를 참고해주세요.\n",
    "http://scikit-image.org/docs/dev/auto_examples/features_detection/plot_glcm.html"
   ]
  },
  {
   "cell_type": "code",
   "execution_count": 1,
   "metadata": {
    "collapsed": true
   },
   "outputs": [],
   "source": [
    "from skimage.feature import greycomatrix, greycoprops\n",
    "from skimage import data\n",
    "from skimage.io import imread\n"
   ]
  },
  {
   "cell_type": "code",
   "execution_count": 2,
   "metadata": {
    "collapsed": true
   },
   "outputs": [],
   "source": [
    "import os\n",
    "pathimg = \"./cucumber\"\n",
    "imgfiles = []\n",
    "for dirName, subdirList, fileList in os.walk(pathimg):\n",
    "    for filename in fileList:\n",
    "        if \".png\" in filename.lower():\n",
    "            imgfiles.append(os.path.join(dirName,filename))"
   ]
  },
  {
   "cell_type": "markdown",
   "metadata": {},
   "source": [
    "이미지파일 리스트를 만드는 과정입니다. \n",
    "cucumber라는 폴더 안에 png 포맷으로 이미지가 저장되어 있는 경우에 대한 예시입니다.\n",
    "필요에 따라서 본인의 폴더명과 이미지 확장자로 바꿔 주시면 됩니다."
   ]
  },
  {
   "cell_type": "code",
   "execution_count": 3,
   "metadata": {},
   "outputs": [
    {
     "data": {
      "text/plain": [
       "['./cucumber\\\\c_0001.png',\n",
       " './cucumber\\\\c_0002.png',\n",
       " './cucumber\\\\c_0003.png',\n",
       " './cucumber\\\\c_0004.png',\n",
       " './cucumber\\\\c_0005.png',\n",
       " './cucumber\\\\c_0006.png',\n",
       " './cucumber\\\\c_0007.png',\n",
       " './cucumber\\\\c_0008.png']"
      ]
     },
     "execution_count": 3,
     "metadata": {},
     "output_type": "execute_result"
    }
   ],
   "source": [
    "imgfiles"
   ]
  },
  {
   "cell_type": "code",
   "execution_count": 4,
   "metadata": {
    "collapsed": true
   },
   "outputs": [],
   "source": [
    "import numpy as np\n",
    "g=np.zeros((len(imgfiles),6),float)\n",
    "for n in range(len(imgfiles)):\n",
    "    img=imread(imgfiles[n])\n",
    "    glcm = greycomatrix(img,[5], [0], 256, symmetric=True, normed=True)\n",
    "    g[n,0]=greycoprops(glcm, 'contrast')\n",
    "    g[n,1]=greycoprops(glcm, 'dissimilarity')\n",
    "    g[n,2]=greycoprops(glcm, 'homogeneity')\n",
    "    g[n,3]=greycoprops(glcm, 'energy')\n",
    "    g[n,4]=greycoprops(glcm, 'correlation')\n",
    "    g[n,5]=greycoprops(glcm, 'ASM')"
   ]
  },
  {
   "cell_type": "markdown",
   "metadata": {},
   "source": [
    "여기서 주의할 부분은 greycomatrix 함수 안에 있는 값들입니다.\n",
    "[5], [0], ... 들을 사용하였는데 본인이 원하는 파라미터로 바꾸어 줄 수 있습니다. \n",
    "여러 경우에 대해 한 번에 계산을 할 경우, greycoprops의 값들도 복수가 될 수 있으므로 수정이 필요합니다. \n",
    "\n",
    "자세한 옵션에 대한 설명은 아래를 참고해 주세요.\n",
    "http://scikit-image.org/docs/dev/api/skimage.feature.html?highlight=greycomatrix#skimage.feature.greycomatrix\n",
    "    "
   ]
  },
  {
   "cell_type": "code",
   "execution_count": 5,
   "metadata": {
    "collapsed": true
   },
   "outputs": [],
   "source": [
    "import pandas as pd\n",
    "import xlsxwriter\n",
    "\n",
    "df0 = pd.DataFrame({'filename': imgfiles})\n",
    "df1 = pd.DataFrame({'contrast': g[:,0]})\n",
    "df2 = pd.DataFrame({'dissimilarity': g[:,1]})\n",
    "df3 = pd.DataFrame({'homoheneity': g[:,2]})\n",
    "df4 = pd.DataFrame({'energy': g[:,3]})\n",
    "df5 = pd.DataFrame({'correlation': g[:,4]})\n",
    "df6 = pd.DataFrame({'ASM': g[:,5]})\n",
    "\n",
    "writer = pd.ExcelWriter('cucumber_GLCM.xlsx', engine='xlsxwriter')\n",
    "\n",
    "df0.to_excel(writer, sheet_name='Sheet1')\n",
    "df1.to_excel(writer, sheet_name='Sheet1', startcol=2, index=False)\n",
    "df2.to_excel(writer, sheet_name='Sheet1', startcol=3, index=False)\n",
    "df3.to_excel(writer, sheet_name='Sheet1', startcol=4, index=False)\n",
    "df4.to_excel(writer, sheet_name='Sheet1', startcol=5, index=False)\n",
    "df5.to_excel(writer, sheet_name='Sheet1', startcol=6, index=False)\n",
    "df6.to_excel(writer, sheet_name='Sheet1', startcol=7, index=False)\n",
    "\n",
    "# Close the Pandas Excel writer and output the Excel file.\n",
    "writer.save()"
   ]
  },
  {
   "cell_type": "markdown",
   "metadata": {},
   "source": [
    "pandas와 xlsxwriter를 이용해서 결과를 excel파일로 저장하는 과정입니다.\n",
    "만들어진 excel파일의 내용과 대조해서 코드를 보면 쉽게 이해할 수 있을 것입니다."
   ]
  }
 ],
 "metadata": {
  "kernelspec": {
   "display_name": "Python 3",
   "language": "python",
   "name": "python3"
  },
  "language_info": {
   "codemirror_mode": {
    "name": "ipython",
    "version": 3
   },
   "file_extension": ".py",
   "mimetype": "text/x-python",
   "name": "python",
   "nbconvert_exporter": "python",
   "pygments_lexer": "ipython3",
   "version": "3.5.2"
  }
 },
 "nbformat": 4,
 "nbformat_minor": 1
}
